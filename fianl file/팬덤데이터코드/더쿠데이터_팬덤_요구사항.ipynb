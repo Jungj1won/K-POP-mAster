{
  "nbformat": 4,
  "nbformat_minor": 0,
  "metadata": {
    "colab": {
      "provenance": []
    },
    "kernelspec": {
      "name": "python3",
      "display_name": "Python 3"
    },
    "language_info": {
      "name": "python"
    }
  },
  "cells": [
    {
      "cell_type": "code",
      "execution_count": null,
      "metadata": {
        "colab": {
          "base_uri": "https://localhost:8080/"
        },
        "id": "tx-L_qu0bkWs",
        "outputId": "ab1ebe92-3508-476b-ec5c-6fad52c479b6"
      },
      "outputs": [
        {
          "output_type": "stream",
          "name": "stdout",
          "text": [
            "Mounted at /content/drive\n"
          ]
        }
      ],
      "source": [
        "from google.colab import drive\n",
        "drive.mount('/content/drive')"
      ]
    },
    {
      "cell_type": "code",
      "source": [
        "import pandas as pd\n",
        "\n",
        "# 팬 커뮤니티 데이터프레임 로드 (예시)\n",
        "fan_community_df = pd.read_csv('/content/drive/MyDrive/Colab Notebooks/더쿠/(여자)아이들더쿠.csv',encoding='utf-8')\n",
        "\n",
        "# 필터링할 단어 목록\n",
        "keywords = ['좀', '해줘', '해라', '안하냐', '놈들', '소속사', '회사', '뭐하냐','쫌','못하나','이정도']\n",
        "\n",
        "# 특정 단어가 포함된 데이터만 추출하는 함수\n",
        "def filter_by_keywords(df, column, keywords):\n",
        "    pattern = '|'.join(keywords)  # 단어 목록을 정규식 패턴으로 변환\n",
        "    filtered_df = df[df[column].str.contains(pattern, case=False, na=False)]\n",
        "    return filtered_df\n",
        "\n",
        "# 팬 커뮤니티 데이터프레임에서 '제목' 열을 기준으로 필터링\n",
        "filtered_fan_community_df = filter_by_keywords(fan_community_df, '제목', keywords)\n",
        "\n",
        "# 결과 확인 (필터링된 데이터프레임 출력)\n",
        "print(filtered_fan_community_df)\n",
        "\n"
      ],
      "metadata": {
        "colab": {
          "base_uri": "https://localhost:8080/"
        },
        "id": "8V8FdqKMbs-W",
        "outputId": "b25460c2-1c53-400f-e24a-975b55244737"
      },
      "execution_count": null,
      "outputs": [
        {
          "output_type": "stream",
          "name": "stdout",
          "text": [
            "      Unnamed: 0                                                 제목\n",
            "223          223              갠적으로 버블 안와도 되니까 팬들이 원하는 컨텐츠 좀 했으면 좋겠음\n",
            "261          261                     항상 느끼는데 회사가 팬들의 니즈를 파악을 못하는거같아\n",
            "1063        1063  [🎧] 우기 참여 tvN 월화드라마 [내 남편과 결혼해줘 OST Special Tr...\n",
            "1068        1068            (여자)아이들 우기, ‘내 남편과 결혼해줘’ OST ‘연극’ 음원 발매\n",
            "1264        1264                        프랭크 선생님 우리도 포카 이벤 같은거 좀....\n",
            "...          ...                                                ...\n",
            "9575        9575                                      ㅠㅠㅠㅠ다음주에 또 해줘\n",
            "9735        9735                                        주접력 좀 배워야겠다\n",
            "9843        9843                       자정에 고요한 거 나름 오랜만이라 나 좀 무서어..\n",
            "9863        9863                                          주말아 좀 꺼져봐\n",
            "9917        9917                                            보스 좀 놀램\n",
            "\n",
            "[92 rows x 2 columns]\n"
          ]
        }
      ]
    },
    {
      "cell_type": "code",
      "source": [
        "import os\n",
        "import pandas as pd\n",
        "import re\n",
        "\n",
        "# 작업 디렉토리 설정 (csv 파일들이 있는 경로)\n",
        "directory = \"/content/drive/MyDrive/Colab Notebooks/더쿠/\"\n",
        "\n",
        "# 모든 CSV 파일들을 찾기\n",
        "matching_files = [file for file in os.listdir(directory) if file.endswith('.csv')]\n",
        "print(\"Matching files:\", matching_files)\n",
        "\n",
        "# 필터링할 단어 목록\n",
        "keywords = ['좀', '해줘', '해라', '안하냐', '놈들', '소속사', '회사', '뭐하냐','새끼들','쫌','그만','답답']\n",
        "\n",
        "# 특정 단어가 포함된 데이터만 추출하는 함수\n",
        "def filter_by_keywords(df, column, keywords):\n",
        "    pattern = '|'.join([re.escape(keyword) for keyword in keywords])  # 단어 목록을 정규식 패턴으로 변환\n",
        "    filtered_df = df[df[column].str.contains(pattern, case=False, na=False)]\n",
        "    return filtered_df\n",
        "\n",
        "# 각 파일을 순회하며 데이터프레임으로 불러와 필터링 후 저장\n",
        "for file in matching_files:\n",
        "    file_path = os.path.join(directory, file)\n",
        "    print(f\"Reading file: {file_path}\")  # 파일 경로 출력\n",
        "    df = pd.read_csv(file_path, encoding='utf-8')  # csv 파일을 데이터프레임으로 불러오기\n",
        "\n",
        "    # 열 이름이 '제목'인지 확인하고 필터링 적용\n",
        "    if '제목' in df.columns:\n",
        "        filtered_df = filter_by_keywords(df, '제목', keywords)\n",
        "\n",
        "        # 필터링된 데이터프레임을 새로운 파일로 저장\n",
        "        if not filtered_df.empty:\n",
        "            filtered_file_path = f\"/content/drive/MyDrive/Colab Notebooks/더쿠요구사항/filtered_{file}\"\n",
        "            filtered_df.to_csv(filtered_file_path, index=False, encoding='utf-8-sig')\n",
        "            print(f\"Filtered data saved to: {filtered_file_path}\")\n",
        "        else:\n",
        "            print(f\"No matching data in file: {file_path}\")\n",
        "    else:\n",
        "        print(f\"Skipping file {file_path} as it does not contain '제목' column\")\n"
      ],
      "metadata": {
        "colab": {
          "base_uri": "https://localhost:8080/"
        },
        "id": "Lz5tWMeqdkUM",
        "outputId": "dc4b5667-b232-4436-92a7-60146b4f7f04"
      },
      "execution_count": null,
      "outputs": [
        {
          "output_type": "stream",
          "name": "stdout",
          "text": [
            "Matching files: ['GOT7더쿠.csv', '이세계아이돌더쿠.csv', '우주소녀더쿠.csv', '에이핑크더쿠.csv', '에프엑스더쿠.csv', '이달의 소녀더쿠.csv', '에스파더쿠.csv', '에이프릴더쿠.csv', '러블리즈더쿠.csv', '온앤오프더쿠.csv', '더보이즈더쿠.csv', 'EXO더쿠.csv', '아이즈원더쿠.csv', '빅뱅더쿠.csv', '세븐틴더쿠.csv', '뉴진스더쿠.csv', '비투비더쿠.csv', '로켓펀치더쿠.csv', 'WINNER더쿠.csv', '라이즈더쿠.csv', 'DAY6더쿠.csv', '구구단더쿠.csv', 'iKON더쿠.csv', 'IVE더쿠.csv', '𝙉𝙀𝙒 트리플에스더쿠.csv', 'STAYC더쿠.csv', 'TWS더쿠.csv', 'ITZY더쿠.csv', '펜타곤더쿠.csv', 'ENHYPEN더쿠.csv', 'NMIXX더쿠.csv', 'BLACKPINK더쿠.csv', 'CRAVITY더쿠.csv', '투모로우바이투게더더쿠.csv', '(여자)아이들더쿠.csv', '프로미스나인더쿠.csv', 'BOYNEXTDOOR더쿠.csv', '오마이걸더쿠.csv', '여자친구더쿠.csv', '방탄소년단더쿠.csv', '몬스타엑스더쿠.csv', '마마무더쿠.csv', '르세라핌더쿠.csv', '레드벨벳더쿠.csv', 'TWICE더쿠.csv', 'TREASURE더쿠.csv', 'Stray Kids더쿠.csv', 'NCT더쿠.csv', 'NCT DREAM더쿠.csv', 'NCT 127더쿠.csv', '인피니트더쿠.csv', 'filtered_GOT7더쿠.csv', 'filtered_이세계아이돌더쿠.csv', 'filtered_우주소녀더쿠.csv', 'filtered_에이핑크더쿠.csv', 'filtered_에프엑스더쿠.csv', 'filtered_이달의 소녀더쿠.csv', 'filtered_에스파더쿠.csv', 'filtered_에이프릴더쿠.csv', 'filtered_러블리즈더쿠.csv', 'filtered_온앤오프더쿠.csv', 'filtered_더보이즈더쿠.csv', 'filtered_EXO더쿠.csv', 'filtered_아이즈원더쿠.csv', 'filtered_빅뱅더쿠.csv', 'filtered_세븐틴더쿠.csv', 'filtered_뉴진스더쿠.csv', 'filtered_비투비더쿠.csv', 'filtered_로켓펀치더쿠.csv', 'filtered_WINNER더쿠.csv', 'filtered_라이즈더쿠.csv', 'filtered_DAY6더쿠.csv', 'filtered_구구단더쿠.csv', 'filtered_iKON더쿠.csv', 'filtered_IVE더쿠.csv', 'filtered_𝙉𝙀𝙒 트리플에스더쿠.csv', 'filtered_STAYC더쿠.csv', 'filtered_TWS더쿠.csv', 'filtered_ITZY더쿠.csv', 'filtered_펜타곤더쿠.csv', 'filtered_ENHYPEN더쿠.csv', 'filtered_NMIXX더쿠.csv', 'filtered_BLACKPINK더쿠.csv']\n",
            "Reading file: /content/drive/MyDrive/Colab Notebooks/더쿠/GOT7더쿠.csv\n",
            "Filtered data saved to: /content/drive/MyDrive/Colab Notebooks/더쿠요구사항/filtered_GOT7더쿠.csv\n",
            "Reading file: /content/drive/MyDrive/Colab Notebooks/더쿠/이세계아이돌더쿠.csv\n",
            "Filtered data saved to: /content/drive/MyDrive/Colab Notebooks/더쿠요구사항/filtered_이세계아이돌더쿠.csv\n",
            "Reading file: /content/drive/MyDrive/Colab Notebooks/더쿠/우주소녀더쿠.csv\n",
            "Filtered data saved to: /content/drive/MyDrive/Colab Notebooks/더쿠요구사항/filtered_우주소녀더쿠.csv\n",
            "Reading file: /content/drive/MyDrive/Colab Notebooks/더쿠/에이핑크더쿠.csv\n",
            "Filtered data saved to: /content/drive/MyDrive/Colab Notebooks/더쿠요구사항/filtered_에이핑크더쿠.csv\n",
            "Reading file: /content/drive/MyDrive/Colab Notebooks/더쿠/에프엑스더쿠.csv\n",
            "Filtered data saved to: /content/drive/MyDrive/Colab Notebooks/더쿠요구사항/filtered_에프엑스더쿠.csv\n",
            "Reading file: /content/drive/MyDrive/Colab Notebooks/더쿠/이달의 소녀더쿠.csv\n",
            "Filtered data saved to: /content/drive/MyDrive/Colab Notebooks/더쿠요구사항/filtered_이달의 소녀더쿠.csv\n",
            "Reading file: /content/drive/MyDrive/Colab Notebooks/더쿠/에스파더쿠.csv\n",
            "Filtered data saved to: /content/drive/MyDrive/Colab Notebooks/더쿠요구사항/filtered_에스파더쿠.csv\n",
            "Reading file: /content/drive/MyDrive/Colab Notebooks/더쿠/에이프릴더쿠.csv\n",
            "Filtered data saved to: /content/drive/MyDrive/Colab Notebooks/더쿠요구사항/filtered_에이프릴더쿠.csv\n",
            "Reading file: /content/drive/MyDrive/Colab Notebooks/더쿠/러블리즈더쿠.csv\n",
            "Filtered data saved to: /content/drive/MyDrive/Colab Notebooks/더쿠요구사항/filtered_러블리즈더쿠.csv\n",
            "Reading file: /content/drive/MyDrive/Colab Notebooks/더쿠/온앤오프더쿠.csv\n",
            "Filtered data saved to: /content/drive/MyDrive/Colab Notebooks/더쿠요구사항/filtered_온앤오프더쿠.csv\n",
            "Reading file: /content/drive/MyDrive/Colab Notebooks/더쿠/더보이즈더쿠.csv\n",
            "Filtered data saved to: /content/drive/MyDrive/Colab Notebooks/더쿠요구사항/filtered_더보이즈더쿠.csv\n",
            "Reading file: /content/drive/MyDrive/Colab Notebooks/더쿠/EXO더쿠.csv\n",
            "Filtered data saved to: /content/drive/MyDrive/Colab Notebooks/더쿠요구사항/filtered_EXO더쿠.csv\n",
            "Reading file: /content/drive/MyDrive/Colab Notebooks/더쿠/아이즈원더쿠.csv\n",
            "Filtered data saved to: /content/drive/MyDrive/Colab Notebooks/더쿠요구사항/filtered_아이즈원더쿠.csv\n",
            "Reading file: /content/drive/MyDrive/Colab Notebooks/더쿠/빅뱅더쿠.csv\n",
            "Filtered data saved to: /content/drive/MyDrive/Colab Notebooks/더쿠요구사항/filtered_빅뱅더쿠.csv\n",
            "Reading file: /content/drive/MyDrive/Colab Notebooks/더쿠/세븐틴더쿠.csv\n",
            "Filtered data saved to: /content/drive/MyDrive/Colab Notebooks/더쿠요구사항/filtered_세븐틴더쿠.csv\n",
            "Reading file: /content/drive/MyDrive/Colab Notebooks/더쿠/뉴진스더쿠.csv\n",
            "Filtered data saved to: /content/drive/MyDrive/Colab Notebooks/더쿠요구사항/filtered_뉴진스더쿠.csv\n",
            "Reading file: /content/drive/MyDrive/Colab Notebooks/더쿠/비투비더쿠.csv\n",
            "Filtered data saved to: /content/drive/MyDrive/Colab Notebooks/더쿠요구사항/filtered_비투비더쿠.csv\n",
            "Reading file: /content/drive/MyDrive/Colab Notebooks/더쿠/로켓펀치더쿠.csv\n",
            "Filtered data saved to: /content/drive/MyDrive/Colab Notebooks/더쿠요구사항/filtered_로켓펀치더쿠.csv\n",
            "Reading file: /content/drive/MyDrive/Colab Notebooks/더쿠/WINNER더쿠.csv\n",
            "Filtered data saved to: /content/drive/MyDrive/Colab Notebooks/더쿠요구사항/filtered_WINNER더쿠.csv\n",
            "Reading file: /content/drive/MyDrive/Colab Notebooks/더쿠/라이즈더쿠.csv\n",
            "Filtered data saved to: /content/drive/MyDrive/Colab Notebooks/더쿠요구사항/filtered_라이즈더쿠.csv\n",
            "Reading file: /content/drive/MyDrive/Colab Notebooks/더쿠/DAY6더쿠.csv\n",
            "Filtered data saved to: /content/drive/MyDrive/Colab Notebooks/더쿠요구사항/filtered_DAY6더쿠.csv\n",
            "Reading file: /content/drive/MyDrive/Colab Notebooks/더쿠/구구단더쿠.csv\n",
            "Filtered data saved to: /content/drive/MyDrive/Colab Notebooks/더쿠요구사항/filtered_구구단더쿠.csv\n",
            "Reading file: /content/drive/MyDrive/Colab Notebooks/더쿠/iKON더쿠.csv\n",
            "Filtered data saved to: /content/drive/MyDrive/Colab Notebooks/더쿠요구사항/filtered_iKON더쿠.csv\n",
            "Reading file: /content/drive/MyDrive/Colab Notebooks/더쿠/IVE더쿠.csv\n",
            "Filtered data saved to: /content/drive/MyDrive/Colab Notebooks/더쿠요구사항/filtered_IVE더쿠.csv\n",
            "Reading file: /content/drive/MyDrive/Colab Notebooks/더쿠/𝙉𝙀𝙒 트리플에스더쿠.csv\n",
            "Filtered data saved to: /content/drive/MyDrive/Colab Notebooks/더쿠요구사항/filtered_𝙉𝙀𝙒 트리플에스더쿠.csv\n",
            "Reading file: /content/drive/MyDrive/Colab Notebooks/더쿠/STAYC더쿠.csv\n",
            "Filtered data saved to: /content/drive/MyDrive/Colab Notebooks/더쿠요구사항/filtered_STAYC더쿠.csv\n",
            "Reading file: /content/drive/MyDrive/Colab Notebooks/더쿠/TWS더쿠.csv\n",
            "Filtered data saved to: /content/drive/MyDrive/Colab Notebooks/더쿠요구사항/filtered_TWS더쿠.csv\n",
            "Reading file: /content/drive/MyDrive/Colab Notebooks/더쿠/ITZY더쿠.csv\n",
            "Filtered data saved to: /content/drive/MyDrive/Colab Notebooks/더쿠요구사항/filtered_ITZY더쿠.csv\n",
            "Reading file: /content/drive/MyDrive/Colab Notebooks/더쿠/펜타곤더쿠.csv\n",
            "Filtered data saved to: /content/drive/MyDrive/Colab Notebooks/더쿠요구사항/filtered_펜타곤더쿠.csv\n",
            "Reading file: /content/drive/MyDrive/Colab Notebooks/더쿠/ENHYPEN더쿠.csv\n",
            "Filtered data saved to: /content/drive/MyDrive/Colab Notebooks/더쿠요구사항/filtered_ENHYPEN더쿠.csv\n",
            "Reading file: /content/drive/MyDrive/Colab Notebooks/더쿠/NMIXX더쿠.csv\n",
            "Filtered data saved to: /content/drive/MyDrive/Colab Notebooks/더쿠요구사항/filtered_NMIXX더쿠.csv\n",
            "Reading file: /content/drive/MyDrive/Colab Notebooks/더쿠/BLACKPINK더쿠.csv\n",
            "Filtered data saved to: /content/drive/MyDrive/Colab Notebooks/더쿠요구사항/filtered_BLACKPINK더쿠.csv\n",
            "Reading file: /content/drive/MyDrive/Colab Notebooks/더쿠/CRAVITY더쿠.csv\n",
            "Filtered data saved to: /content/drive/MyDrive/Colab Notebooks/더쿠요구사항/filtered_CRAVITY더쿠.csv\n",
            "Reading file: /content/drive/MyDrive/Colab Notebooks/더쿠/투모로우바이투게더더쿠.csv\n",
            "Filtered data saved to: /content/drive/MyDrive/Colab Notebooks/더쿠요구사항/filtered_투모로우바이투게더더쿠.csv\n",
            "Reading file: /content/drive/MyDrive/Colab Notebooks/더쿠/(여자)아이들더쿠.csv\n",
            "Filtered data saved to: /content/drive/MyDrive/Colab Notebooks/더쿠요구사항/filtered_(여자)아이들더쿠.csv\n",
            "Reading file: /content/drive/MyDrive/Colab Notebooks/더쿠/프로미스나인더쿠.csv\n",
            "Filtered data saved to: /content/drive/MyDrive/Colab Notebooks/더쿠요구사항/filtered_프로미스나인더쿠.csv\n",
            "Reading file: /content/drive/MyDrive/Colab Notebooks/더쿠/BOYNEXTDOOR더쿠.csv\n",
            "Filtered data saved to: /content/drive/MyDrive/Colab Notebooks/더쿠요구사항/filtered_BOYNEXTDOOR더쿠.csv\n",
            "Reading file: /content/drive/MyDrive/Colab Notebooks/더쿠/오마이걸더쿠.csv\n",
            "Filtered data saved to: /content/drive/MyDrive/Colab Notebooks/더쿠요구사항/filtered_오마이걸더쿠.csv\n",
            "Reading file: /content/drive/MyDrive/Colab Notebooks/더쿠/여자친구더쿠.csv\n",
            "Filtered data saved to: /content/drive/MyDrive/Colab Notebooks/더쿠요구사항/filtered_여자친구더쿠.csv\n",
            "Reading file: /content/drive/MyDrive/Colab Notebooks/더쿠/방탄소년단더쿠.csv\n",
            "Filtered data saved to: /content/drive/MyDrive/Colab Notebooks/더쿠요구사항/filtered_방탄소년단더쿠.csv\n",
            "Reading file: /content/drive/MyDrive/Colab Notebooks/더쿠/몬스타엑스더쿠.csv\n",
            "Filtered data saved to: /content/drive/MyDrive/Colab Notebooks/더쿠요구사항/filtered_몬스타엑스더쿠.csv\n",
            "Reading file: /content/drive/MyDrive/Colab Notebooks/더쿠/마마무더쿠.csv\n",
            "Filtered data saved to: /content/drive/MyDrive/Colab Notebooks/더쿠요구사항/filtered_마마무더쿠.csv\n",
            "Reading file: /content/drive/MyDrive/Colab Notebooks/더쿠/르세라핌더쿠.csv\n",
            "Filtered data saved to: /content/drive/MyDrive/Colab Notebooks/더쿠요구사항/filtered_르세라핌더쿠.csv\n",
            "Reading file: /content/drive/MyDrive/Colab Notebooks/더쿠/레드벨벳더쿠.csv\n",
            "Filtered data saved to: /content/drive/MyDrive/Colab Notebooks/더쿠요구사항/filtered_레드벨벳더쿠.csv\n",
            "Reading file: /content/drive/MyDrive/Colab Notebooks/더쿠/TWICE더쿠.csv\n",
            "Filtered data saved to: /content/drive/MyDrive/Colab Notebooks/더쿠요구사항/filtered_TWICE더쿠.csv\n",
            "Reading file: /content/drive/MyDrive/Colab Notebooks/더쿠/TREASURE더쿠.csv\n",
            "Filtered data saved to: /content/drive/MyDrive/Colab Notebooks/더쿠요구사항/filtered_TREASURE더쿠.csv\n",
            "Reading file: /content/drive/MyDrive/Colab Notebooks/더쿠/Stray Kids더쿠.csv\n",
            "Filtered data saved to: /content/drive/MyDrive/Colab Notebooks/더쿠요구사항/filtered_Stray Kids더쿠.csv\n",
            "Reading file: /content/drive/MyDrive/Colab Notebooks/더쿠/NCT더쿠.csv\n",
            "Filtered data saved to: /content/drive/MyDrive/Colab Notebooks/더쿠요구사항/filtered_NCT더쿠.csv\n",
            "Reading file: /content/drive/MyDrive/Colab Notebooks/더쿠/NCT DREAM더쿠.csv\n",
            "Filtered data saved to: /content/drive/MyDrive/Colab Notebooks/더쿠요구사항/filtered_NCT DREAM더쿠.csv\n",
            "Reading file: /content/drive/MyDrive/Colab Notebooks/더쿠/NCT 127더쿠.csv\n",
            "Filtered data saved to: /content/drive/MyDrive/Colab Notebooks/더쿠요구사항/filtered_NCT 127더쿠.csv\n",
            "Reading file: /content/drive/MyDrive/Colab Notebooks/더쿠/인피니트더쿠.csv\n",
            "Filtered data saved to: /content/drive/MyDrive/Colab Notebooks/더쿠요구사항/filtered_인피니트더쿠.csv\n",
            "Reading file: /content/drive/MyDrive/Colab Notebooks/더쿠/filtered_GOT7더쿠.csv\n",
            "Filtered data saved to: /content/drive/MyDrive/Colab Notebooks/더쿠요구사항/filtered_filtered_GOT7더쿠.csv\n",
            "Reading file: /content/drive/MyDrive/Colab Notebooks/더쿠/filtered_이세계아이돌더쿠.csv\n",
            "Filtered data saved to: /content/drive/MyDrive/Colab Notebooks/더쿠요구사항/filtered_filtered_이세계아이돌더쿠.csv\n",
            "Reading file: /content/drive/MyDrive/Colab Notebooks/더쿠/filtered_우주소녀더쿠.csv\n",
            "Filtered data saved to: /content/drive/MyDrive/Colab Notebooks/더쿠요구사항/filtered_filtered_우주소녀더쿠.csv\n",
            "Reading file: /content/drive/MyDrive/Colab Notebooks/더쿠/filtered_에이핑크더쿠.csv\n",
            "Filtered data saved to: /content/drive/MyDrive/Colab Notebooks/더쿠요구사항/filtered_filtered_에이핑크더쿠.csv\n",
            "Reading file: /content/drive/MyDrive/Colab Notebooks/더쿠/filtered_에프엑스더쿠.csv\n",
            "Filtered data saved to: /content/drive/MyDrive/Colab Notebooks/더쿠요구사항/filtered_filtered_에프엑스더쿠.csv\n",
            "Reading file: /content/drive/MyDrive/Colab Notebooks/더쿠/filtered_이달의 소녀더쿠.csv\n",
            "Filtered data saved to: /content/drive/MyDrive/Colab Notebooks/더쿠요구사항/filtered_filtered_이달의 소녀더쿠.csv\n",
            "Reading file: /content/drive/MyDrive/Colab Notebooks/더쿠/filtered_에스파더쿠.csv\n",
            "Filtered data saved to: /content/drive/MyDrive/Colab Notebooks/더쿠요구사항/filtered_filtered_에스파더쿠.csv\n",
            "Reading file: /content/drive/MyDrive/Colab Notebooks/더쿠/filtered_에이프릴더쿠.csv\n",
            "Filtered data saved to: /content/drive/MyDrive/Colab Notebooks/더쿠요구사항/filtered_filtered_에이프릴더쿠.csv\n",
            "Reading file: /content/drive/MyDrive/Colab Notebooks/더쿠/filtered_러블리즈더쿠.csv\n",
            "Filtered data saved to: /content/drive/MyDrive/Colab Notebooks/더쿠요구사항/filtered_filtered_러블리즈더쿠.csv\n",
            "Reading file: /content/drive/MyDrive/Colab Notebooks/더쿠/filtered_온앤오프더쿠.csv\n",
            "Filtered data saved to: /content/drive/MyDrive/Colab Notebooks/더쿠요구사항/filtered_filtered_온앤오프더쿠.csv\n",
            "Reading file: /content/drive/MyDrive/Colab Notebooks/더쿠/filtered_더보이즈더쿠.csv\n",
            "Filtered data saved to: /content/drive/MyDrive/Colab Notebooks/더쿠요구사항/filtered_filtered_더보이즈더쿠.csv\n",
            "Reading file: /content/drive/MyDrive/Colab Notebooks/더쿠/filtered_EXO더쿠.csv\n",
            "Filtered data saved to: /content/drive/MyDrive/Colab Notebooks/더쿠요구사항/filtered_filtered_EXO더쿠.csv\n",
            "Reading file: /content/drive/MyDrive/Colab Notebooks/더쿠/filtered_아이즈원더쿠.csv\n",
            "Filtered data saved to: /content/drive/MyDrive/Colab Notebooks/더쿠요구사항/filtered_filtered_아이즈원더쿠.csv\n",
            "Reading file: /content/drive/MyDrive/Colab Notebooks/더쿠/filtered_빅뱅더쿠.csv\n",
            "Filtered data saved to: /content/drive/MyDrive/Colab Notebooks/더쿠요구사항/filtered_filtered_빅뱅더쿠.csv\n",
            "Reading file: /content/drive/MyDrive/Colab Notebooks/더쿠/filtered_세븐틴더쿠.csv\n",
            "Filtered data saved to: /content/drive/MyDrive/Colab Notebooks/더쿠요구사항/filtered_filtered_세븐틴더쿠.csv\n",
            "Reading file: /content/drive/MyDrive/Colab Notebooks/더쿠/filtered_뉴진스더쿠.csv\n",
            "Filtered data saved to: /content/drive/MyDrive/Colab Notebooks/더쿠요구사항/filtered_filtered_뉴진스더쿠.csv\n",
            "Reading file: /content/drive/MyDrive/Colab Notebooks/더쿠/filtered_비투비더쿠.csv\n",
            "Filtered data saved to: /content/drive/MyDrive/Colab Notebooks/더쿠요구사항/filtered_filtered_비투비더쿠.csv\n",
            "Reading file: /content/drive/MyDrive/Colab Notebooks/더쿠/filtered_로켓펀치더쿠.csv\n",
            "Filtered data saved to: /content/drive/MyDrive/Colab Notebooks/더쿠요구사항/filtered_filtered_로켓펀치더쿠.csv\n",
            "Reading file: /content/drive/MyDrive/Colab Notebooks/더쿠/filtered_WINNER더쿠.csv\n",
            "Filtered data saved to: /content/drive/MyDrive/Colab Notebooks/더쿠요구사항/filtered_filtered_WINNER더쿠.csv\n",
            "Reading file: /content/drive/MyDrive/Colab Notebooks/더쿠/filtered_라이즈더쿠.csv\n",
            "Filtered data saved to: /content/drive/MyDrive/Colab Notebooks/더쿠요구사항/filtered_filtered_라이즈더쿠.csv\n",
            "Reading file: /content/drive/MyDrive/Colab Notebooks/더쿠/filtered_DAY6더쿠.csv\n",
            "Filtered data saved to: /content/drive/MyDrive/Colab Notebooks/더쿠요구사항/filtered_filtered_DAY6더쿠.csv\n",
            "Reading file: /content/drive/MyDrive/Colab Notebooks/더쿠/filtered_구구단더쿠.csv\n",
            "Filtered data saved to: /content/drive/MyDrive/Colab Notebooks/더쿠요구사항/filtered_filtered_구구단더쿠.csv\n",
            "Reading file: /content/drive/MyDrive/Colab Notebooks/더쿠/filtered_iKON더쿠.csv\n",
            "Filtered data saved to: /content/drive/MyDrive/Colab Notebooks/더쿠요구사항/filtered_filtered_iKON더쿠.csv\n",
            "Reading file: /content/drive/MyDrive/Colab Notebooks/더쿠/filtered_IVE더쿠.csv\n",
            "Filtered data saved to: /content/drive/MyDrive/Colab Notebooks/더쿠요구사항/filtered_filtered_IVE더쿠.csv\n",
            "Reading file: /content/drive/MyDrive/Colab Notebooks/더쿠/filtered_𝙉𝙀𝙒 트리플에스더쿠.csv\n",
            "Filtered data saved to: /content/drive/MyDrive/Colab Notebooks/더쿠요구사항/filtered_filtered_𝙉𝙀𝙒 트리플에스더쿠.csv\n",
            "Reading file: /content/drive/MyDrive/Colab Notebooks/더쿠/filtered_STAYC더쿠.csv\n",
            "Filtered data saved to: /content/drive/MyDrive/Colab Notebooks/더쿠요구사항/filtered_filtered_STAYC더쿠.csv\n",
            "Reading file: /content/drive/MyDrive/Colab Notebooks/더쿠/filtered_TWS더쿠.csv\n",
            "Filtered data saved to: /content/drive/MyDrive/Colab Notebooks/더쿠요구사항/filtered_filtered_TWS더쿠.csv\n",
            "Reading file: /content/drive/MyDrive/Colab Notebooks/더쿠/filtered_ITZY더쿠.csv\n",
            "Filtered data saved to: /content/drive/MyDrive/Colab Notebooks/더쿠요구사항/filtered_filtered_ITZY더쿠.csv\n",
            "Reading file: /content/drive/MyDrive/Colab Notebooks/더쿠/filtered_펜타곤더쿠.csv\n",
            "Filtered data saved to: /content/drive/MyDrive/Colab Notebooks/더쿠요구사항/filtered_filtered_펜타곤더쿠.csv\n",
            "Reading file: /content/drive/MyDrive/Colab Notebooks/더쿠/filtered_ENHYPEN더쿠.csv\n",
            "Filtered data saved to: /content/drive/MyDrive/Colab Notebooks/더쿠요구사항/filtered_filtered_ENHYPEN더쿠.csv\n",
            "Reading file: /content/drive/MyDrive/Colab Notebooks/더쿠/filtered_NMIXX더쿠.csv\n",
            "Filtered data saved to: /content/drive/MyDrive/Colab Notebooks/더쿠요구사항/filtered_filtered_NMIXX더쿠.csv\n",
            "Reading file: /content/drive/MyDrive/Colab Notebooks/더쿠/filtered_BLACKPINK더쿠.csv\n",
            "Filtered data saved to: /content/drive/MyDrive/Colab Notebooks/더쿠요구사항/filtered_filtered_BLACKPINK더쿠.csv\n"
          ]
        }
      ]
    },
    {
      "cell_type": "code",
      "source": [
        "import pandas as pd\n",
        "from sklearn.feature_extraction.text import CountVectorizer\n",
        "import numpy as np"
      ],
      "metadata": {
        "id": "hkeCNdQhnpYD"
      },
      "execution_count": null,
      "outputs": []
    },
    {
      "cell_type": "code",
      "source": [
        "data = pd.read_csv(\"/content/drive/MyDrive/Colab Notebooks/더쿠요구사항/filtered_(여자)아이들더쿠.csv\",encoding='utf-8')"
      ],
      "metadata": {
        "id": "X4eq_FvU1-H2"
      },
      "execution_count": null,
      "outputs": []
    },
    {
      "cell_type": "code",
      "source": [
        "texts = data['제목'].dropna().tolist()"
      ],
      "metadata": {
        "id": "IBXK00hT2Cc8"
      },
      "execution_count": null,
      "outputs": []
    },
    {
      "cell_type": "code",
      "source": [
        "korean_stopwords = [\n",
        "    '이', '그', '저', '것', '수', '등', '들', '및', '안', '못', '때문', '다른', '어떤', '같은', '그리고',\n",
        "    '하지만', '또한', '또', '등등', '더', '이미', '대한', '에서', '으로', '에게', '에게는', '도', '을', '를',\n",
        "    '이', '가', '에', '와', '과', '한', '하고', '보다', '들', '의', '네', '라고', '다', '까', '하며', '하다',\n",
        "    '였다','계속','왜','오늘','중','게','난','그냥','좀', '해줘', '해라', '안하냐', '놈들', '소속사', '회사', '뭐하냐'\n",
        "\n",
        "]"
      ],
      "metadata": {
        "id": "D3s3b7t13oW8"
      },
      "execution_count": null,
      "outputs": []
    },
    {
      "cell_type": "code",
      "source": [
        "vectorizer = CountVectorizer(tokenizer=lambda x: x.split(), stop_words=korean_stopwords, min_df=2)  # min_df=2 to filter words that appear less than twice\n",
        "X = vectorizer.fit_transform(texts)"
      ],
      "metadata": {
        "colab": {
          "base_uri": "https://localhost:8080/"
        },
        "id": "cXa1JsTe2GiO",
        "outputId": "888fec0c-cb97-4868-90a4-6d5697f1d9f3"
      },
      "execution_count": null,
      "outputs": [
        {
          "output_type": "stream",
          "name": "stderr",
          "text": [
            "/usr/local/lib/python3.10/dist-packages/sklearn/feature_extraction/text.py:528: UserWarning: The parameter 'token_pattern' will not be used since 'tokenizer' is not None'\n",
            "  warnings.warn(\n"
          ]
        }
      ]
    },
    {
      "cell_type": "code",
      "source": [
        "X"
      ],
      "metadata": {
        "colab": {
          "base_uri": "https://localhost:8080/"
        },
        "id": "ds1DjeAT3U5z",
        "outputId": "bb674578-9762-4379-ab43-53e02728fc53"
      },
      "execution_count": null,
      "outputs": [
        {
          "output_type": "execute_result",
          "data": {
            "text/plain": [
              "<92x36 sparse matrix of type '<class 'numpy.int64'>'\n",
              "\twith 81 stored elements in Compressed Sparse Row format>"
            ]
          },
          "metadata": {},
          "execution_count": 25
        }
      ]
    },
    {
      "cell_type": "code",
      "source": [
        "Xc = (X.T * X)  # This is the co-occurrence matrix in sparse format\n",
        "Xc.setdiag(0)   # Set the diagonal to 0, as we do not count self-cooccurrences"
      ],
      "metadata": {
        "id": "fEeQ8zPk2Jo7"
      },
      "execution_count": null,
      "outputs": []
    },
    {
      "cell_type": "code",
      "source": [
        "cooccurrence_matrix = pd.DataFrame(data=Xc.toarray(), columns=vectorizer.get_feature_names_out(), index=vectorizer.get_feature_names_out())\n"
      ],
      "metadata": {
        "id": "lM7MjQsQ2OAT"
      },
      "execution_count": null,
      "outputs": []
    },
    {
      "cell_type": "code",
      "source": [
        "output_file_path = '/content/drive/MyDrive/Colab Notebooks/더쿠요구사항/(여자)idle_cooccurrence_matrix.xlsx'\n",
        "cooccurrence_matrix.to_excel(output_file_path)\n"
      ],
      "metadata": {
        "id": "9WN1Uo8t2O_l"
      },
      "execution_count": null,
      "outputs": []
    },
    {
      "cell_type": "code",
      "source": [
        "import pandas as pd\n",
        "from sklearn.feature_extraction.text import CountVectorizer\n",
        "import numpy as np\n",
        "data = pd.read_csv(\"/content/drive/MyDrive/Colab Notebooks/더쿠요구사항/filtered_뉴진스더쿠.csv\",encoding='utf-8')\n",
        "texts = data['제목'].dropna().tolist()\n",
        "korean_stopwords = [\n",
        "    '이', '그', '저', '것', '수', '등', '들', '및', '안', '못', '때문', '다른', '어떤', '같은', '그리고',\n",
        "    '하지만', '또한', '또', '등등', '더', '이미', '대한', '에서', '으로', '에게', '에게는', '도', '을', '를',\n",
        "    '이', '가', '에', '와', '과', '한', '하고', '보다', '들', '의', '네', '라고', '다', '까', '하며', '하다',\n",
        "    '였다','계속','왜','오늘','중','게','난','그냥','좀', '해줘', '해라', '안하냐', '놈들', '소속사', '회사', '뭐하냐','인스타',\n",
        "    '어제','근데','아니','있는','안녕','라는','라도','거','누가','나','ㅋㅋㅋ','했는데'\n",
        "    ]\n",
        "vectorizer = CountVectorizer(tokenizer=lambda x: x.split(), stop_words=korean_stopwords, min_df=1)  # min_df=2 to filter words that appear less than twice\n",
        "X = vectorizer.fit_transform(texts)\n",
        "print(X.shape)\n",
        "Xc = (X.T * X)  # This is the co-occurrence matrix in sparse format\n",
        "Xc.setdiag(0)   # Set the diagonal to 0, as we do not count self-cooccurrences\n",
        "cooccurrence_matrix = pd.DataFrame(data=Xc.toarray(), columns=vectorizer.get_feature_names_out(), index=vectorizer.get_feature_names_out())\n"
      ],
      "metadata": {
        "colab": {
          "base_uri": "https://localhost:8080/"
        },
        "id": "NRKYrKvW2aE6",
        "outputId": "77bdcf1a-5fce-4084-a5b9-47c976bd7372"
      },
      "execution_count": null,
      "outputs": [
        {
          "output_type": "stream",
          "name": "stdout",
          "text": [
            "(88, 342)\n"
          ]
        },
        {
          "output_type": "stream",
          "name": "stderr",
          "text": [
            "/usr/local/lib/python3.10/dist-packages/sklearn/feature_extraction/text.py:528: UserWarning: The parameter 'token_pattern' will not be used since 'tokenizer' is not None'\n",
            "  warnings.warn(\n"
          ]
        }
      ]
    },
    {
      "cell_type": "code",
      "source": [
        "!pip install konlpy"
      ],
      "metadata": {
        "colab": {
          "base_uri": "https://localhost:8080/"
        },
        "id": "UT6LspvrIXbF",
        "outputId": "eb65074b-749c-4857-8d4d-614106c9e170"
      },
      "execution_count": null,
      "outputs": [
        {
          "output_type": "stream",
          "name": "stdout",
          "text": [
            "Collecting konlpy\n",
            "  Downloading konlpy-0.6.0-py2.py3-none-any.whl (19.4 MB)\n",
            "\u001b[2K     \u001b[90m━━━━━━━━━━━━━━━━━━━━━━━━━━━━━━━━━━━━━━━━\u001b[0m \u001b[32m19.4/19.4 MB\u001b[0m \u001b[31m29.9 MB/s\u001b[0m eta \u001b[36m0:00:00\u001b[0m\n",
            "\u001b[?25hCollecting JPype1>=0.7.0 (from konlpy)\n",
            "  Downloading JPype1-1.5.0-cp310-cp310-manylinux_2_17_x86_64.manylinux2014_x86_64.whl (488 kB)\n",
            "\u001b[2K     \u001b[90m━━━━━━━━━━━━━━━━━━━━━━━━━━━━━━━━━━━━━━━━\u001b[0m \u001b[32m488.6/488.6 kB\u001b[0m \u001b[31m34.7 MB/s\u001b[0m eta \u001b[36m0:00:00\u001b[0m\n",
            "\u001b[?25hRequirement already satisfied: lxml>=4.1.0 in /usr/local/lib/python3.10/dist-packages (from konlpy) (4.9.4)\n",
            "Requirement already satisfied: numpy>=1.6 in /usr/local/lib/python3.10/dist-packages (from konlpy) (1.25.2)\n",
            "Requirement already satisfied: packaging in /usr/local/lib/python3.10/dist-packages (from JPype1>=0.7.0->konlpy) (24.1)\n",
            "Installing collected packages: JPype1, konlpy\n",
            "Successfully installed JPype1-1.5.0 konlpy-0.6.0\n"
          ]
        }
      ]
    },
    {
      "cell_type": "code",
      "source": [
        "import pandas as pd\n",
        "from sklearn.feature_extraction.text import CountVectorizer\n",
        "import numpy as np\n",
        "from konlpy.tag import Okt\n",
        "\n",
        "# Load the data\n",
        "file_path = '/content/drive/MyDrive/Colab Notebooks/더쿠요구사항/filtered_TWS더쿠.csv'\n",
        "data = pd.read_csv(file_path, encoding='utf-8')\n",
        "texts = data['제목'].dropna().tolist()\n",
        "\n",
        "# Define Korean stop words\n",
        "korean_stopwords = [\n",
        "    '이', '그', '저', '것', '수', '등', '들', '및', '안', '못', '때문', '다른', '어떤', '같은', '그리고',\n",
        "    '하지만', '또한', '또', '등등', '더', '이미', '대한', '에서', '으로', '에게', '에게는', '도', '을', '를',\n",
        "    '이', '가', '에', '와', '과', '한', '하고', '보다', '들', '의', '네', '라고', '다', '까', '하며', '하다',\n",
        "    '였다','계속','왜','오늘','중','게','난','그냥','좀', '해줘', '해라', '안하냐', '놈들', '소속사', '회사', '뭐하냐','인스타',\n",
        "    '어제','근데','아니','있는','안녕','라는','라도','거','누가','나','ㅋㅋㅋ','했는데','믕',\n",
        "    '대리', '덬들', '뭔가', '제석', '층', '처', '층', '강', '윤', '박', '비욘', '덬', '개', '얘드', '줄', '식이', '예', '때', '보는', '둘', '도우', '에바', '눈물', '퇴근', '제', '개', '정신', '번', '일', '신입', '어썸',\n",
        "    '홈즈', '구', '하지', '건가', '빵', '써', '어디', '사실', '덬들', '덬', '이제', '조만간', '헐', '뽐', '놈', '인터넷', '편', '연락', '주소', '뭐할까', '타덬', '존나', '하지', '주', '롱뽐쥬빵',\n",
        "    '슴스', '투하', '따', '블맘', '엣덬들', '짜', '해', '회사원', '덬들', '정도', '할팬', '제리', '본가', '보네', '였구', '덬놈킹수', '아닠', '성교육', '파좀', '타덬', '욧', 'ㅇ', '갈기', '형광쫄쫄', '켓몬빵', '짤계', '싶어', 'ㄹㄹ', '하니까', '해라고', '옴', '만큼',\n",
        "    '중딩', '뭐', '집', '덬', '나중', '리좀', '마', '진보', 'ㅠ','내','나는','뭐','이건','글','올','나도','잘','ㅇㅅㅌ','바로','아','ㅋㅋㅋㅋ','ㅠㅠ',\n",
        "    '웅니','거든','후','틈','큰!','노옴','할거가','진','알','울','냥','포','판','한당','곸','역서','애','좆','물','거지','실',\n",
        "    '분뒤','할','첫','됨','브이','맛','않을','번은','닳도록','재탕',\n",
        "    '재','떴당','씻','봐','않','맏막','해도','잊지','차','번역','둔','혹시','진짜','감','샤',\n",
        "    '쪽','은','늦덬','앱','원더','전','않는','컷다','토마토','지나가는','안부','송장','됐음','오','젠','넼','데','라나','깐',\n",
        "]\n",
        "\n",
        "# Initialize the Okt tokenizer\n",
        "okt = Okt()\n",
        "\n",
        "def filter_nouns_and_verbs(text):\n",
        "    tokens = okt.pos(text)\n",
        "    filtered_tokens = [word for word, pos in tokens if pos in ['Noun','Verb'] and word not in korean_stopwords]\n",
        "    return ' '.join(filtered_tokens)\n",
        "\n",
        "filtered_texts = [filter_nouns_and_verbs(text) for text in texts]\n",
        "print(filtered_texts)\n",
        "\n",
        "# 빈도수 최소 2회 이상 단어만 필터링\n",
        "vectorizer = CountVectorizer(tokenizer=lambda x: x.split(), stop_words=korean_stopwords, min_df=2)\n",
        "X = vectorizer.fit_transform(filtered_texts)\n",
        "\n",
        "print(X.shape)\n",
        "\n",
        "Xc = (X.T * X)  # This is the co-occurrence matrix in sparse format\n",
        "Xc.setdiag(0)   # Set the diagonal to 0, as we do not count self-cooccurrences\n",
        "\n",
        "# Convert to a dense matrix and create a DataFrame\n",
        "cooccurrence_matrix = pd.DataFrame(data=Xc.toarray(), columns=vectorizer.get_feature_names_out(), index=vectorizer.get_feature_names_out())\n",
        "\n"
      ],
      "metadata": {
        "colab": {
          "base_uri": "https://localhost:8080/"
        },
        "id": "siWMsYo4ISBU",
        "outputId": "17aacf11-28c4-4f0e-9d8d-584b5f7dca53"
      },
      "execution_count": null,
      "outputs": [
        {
          "output_type": "stream",
          "name": "stdout",
          "text": [
            "['팔뚝 가리라 싶은데', '팔뚝 가리라 싶은데', '스밍 중간 중간 확인', '엠카 후기', '댓글 보세요', '탄거', '쇼케이스 신청 물어봐도 될까 처음 신청 해봐', '진정 시켜줘', '불만 가진 적 노래 의심 한적', '셋 넷 가위바위보', '정화 오토마톤 다루는 손', '영재 짤', '저기 가방 치워 주시 요 말 할수', '한진 영재 입', '앜 신유 베레모 쓰고 양갈래 된것', '학교 축제 학창시절 얘기 해줘서', '디', '산지 됐나', '정환 너 듣는 그거 공유', '정환 활동 신유 먼저 말 했나', '경민이 과음', '정화 단체 엔딩 얼굴', '정환 모델 아이돌 하겠다고 결정 해줘서', '항상 해줘서', '고정 조합 붙는 역량', '데뷔 지났는데 덕질 넘', '똑똑 저기 신유 짤 얻을', '유야 어록', '붕방붕방 강아지 사이 떤 고양이 봐줘', '유야 얼굴', '경미', '질문 돼', '근처 점심 먹는데 봄', '컨 팬아트 봐줘', '사이 낯 가리고', '라이브 해줘라 안햐줘 규 말 해주고싶어', '활동 비하인 드 챌 린지 건 나오길래', '다시 봐도 경민이', '군데 경미 커진 않아', '라이브 평소 그치', '얘 크고 않음', '아이돌 해줘서 감사합니다', '포카 자랑', '꺄 밀키스 엽서', '투 어스 애교 평가 회 사건', '도훈 잔 동생 한텐 이슈 였나', '도훈 잤대', '팬싸 하면 팬 옷 입는게', '김도훈 너 이름 김도훈 개명', '도훈', '영재 말투 들어 너 이따 나좀', '팬미팅 큐 카드 날아가는 영상 쇼', '무대', '뮤뱅 땐 딜 레이 생각 해서 눌렀더니 딜 레이', '마음 여의도 하냐', '중년 문의', '적외선', '일상사진 느낌 사진', '알려줘']\n",
            "(59, 180)\n"
          ]
        },
        {
          "output_type": "stream",
          "name": "stderr",
          "text": [
            "/usr/local/lib/python3.10/dist-packages/sklearn/feature_extraction/text.py:528: UserWarning: The parameter 'token_pattern' will not be used since 'tokenizer' is not None'\n",
            "  warnings.warn(\n"
          ]
        }
      ]
    },
    {
      "cell_type": "code",
      "source": [
        "filter_text = pd.DataFrame(filtered_texts)\n",
        "filter_text"
      ],
      "metadata": {
        "colab": {
          "base_uri": "https://localhost:8080/",
          "height": 423
        },
        "id": "yy-vlJtbXJUK",
        "outputId": "f205098f-effa-4f0f-a7f5-88e8a3e4c789"
      },
      "execution_count": null,
      "outputs": [
        {
          "output_type": "execute_result",
          "data": {
            "text/plain": [
              "                    0\n",
              "0    유럽 투어 가면 의상 바뀌려나\n",
              "1                  완료\n",
              "2                  완료\n",
              "3               레이 선공\n",
              "4                물어볼게\n",
              "..                ...\n",
              "127        리무진 서비스 뜬다\n",
              "128  컴백 언플 전 티저 올리는 봐\n",
              "129                번은\n",
              "130      우리 웰컴 패키지 배송\n",
              "131         주말 시키는 진짜\n",
              "\n",
              "[132 rows x 1 columns]"
            ],
            "text/html": [
              "\n",
              "  <div id=\"df-640b71ae-597b-4e46-99fe-d6b5ce3e6f48\" class=\"colab-df-container\">\n",
              "    <div>\n",
              "<style scoped>\n",
              "    .dataframe tbody tr th:only-of-type {\n",
              "        vertical-align: middle;\n",
              "    }\n",
              "\n",
              "    .dataframe tbody tr th {\n",
              "        vertical-align: top;\n",
              "    }\n",
              "\n",
              "    .dataframe thead th {\n",
              "        text-align: right;\n",
              "    }\n",
              "</style>\n",
              "<table border=\"1\" class=\"dataframe\">\n",
              "  <thead>\n",
              "    <tr style=\"text-align: right;\">\n",
              "      <th></th>\n",
              "      <th>0</th>\n",
              "    </tr>\n",
              "  </thead>\n",
              "  <tbody>\n",
              "    <tr>\n",
              "      <th>0</th>\n",
              "      <td>유럽 투어 가면 의상 바뀌려나</td>\n",
              "    </tr>\n",
              "    <tr>\n",
              "      <th>1</th>\n",
              "      <td>완료</td>\n",
              "    </tr>\n",
              "    <tr>\n",
              "      <th>2</th>\n",
              "      <td>완료</td>\n",
              "    </tr>\n",
              "    <tr>\n",
              "      <th>3</th>\n",
              "      <td>레이 선공</td>\n",
              "    </tr>\n",
              "    <tr>\n",
              "      <th>4</th>\n",
              "      <td>물어볼게</td>\n",
              "    </tr>\n",
              "    <tr>\n",
              "      <th>...</th>\n",
              "      <td>...</td>\n",
              "    </tr>\n",
              "    <tr>\n",
              "      <th>127</th>\n",
              "      <td>리무진 서비스 뜬다</td>\n",
              "    </tr>\n",
              "    <tr>\n",
              "      <th>128</th>\n",
              "      <td>컴백 언플 전 티저 올리는 봐</td>\n",
              "    </tr>\n",
              "    <tr>\n",
              "      <th>129</th>\n",
              "      <td>번은</td>\n",
              "    </tr>\n",
              "    <tr>\n",
              "      <th>130</th>\n",
              "      <td>우리 웰컴 패키지 배송</td>\n",
              "    </tr>\n",
              "    <tr>\n",
              "      <th>131</th>\n",
              "      <td>주말 시키는 진짜</td>\n",
              "    </tr>\n",
              "  </tbody>\n",
              "</table>\n",
              "<p>132 rows × 1 columns</p>\n",
              "</div>\n",
              "    <div class=\"colab-df-buttons\">\n",
              "\n",
              "  <div class=\"colab-df-container\">\n",
              "    <button class=\"colab-df-convert\" onclick=\"convertToInteractive('df-640b71ae-597b-4e46-99fe-d6b5ce3e6f48')\"\n",
              "            title=\"Convert this dataframe to an interactive table.\"\n",
              "            style=\"display:none;\">\n",
              "\n",
              "  <svg xmlns=\"http://www.w3.org/2000/svg\" height=\"24px\" viewBox=\"0 -960 960 960\">\n",
              "    <path d=\"M120-120v-720h720v720H120Zm60-500h600v-160H180v160Zm220 220h160v-160H400v160Zm0 220h160v-160H400v160ZM180-400h160v-160H180v160Zm440 0h160v-160H620v160ZM180-180h160v-160H180v160Zm440 0h160v-160H620v160Z\"/>\n",
              "  </svg>\n",
              "    </button>\n",
              "\n",
              "  <style>\n",
              "    .colab-df-container {\n",
              "      display:flex;\n",
              "      gap: 12px;\n",
              "    }\n",
              "\n",
              "    .colab-df-convert {\n",
              "      background-color: #E8F0FE;\n",
              "      border: none;\n",
              "      border-radius: 50%;\n",
              "      cursor: pointer;\n",
              "      display: none;\n",
              "      fill: #1967D2;\n",
              "      height: 32px;\n",
              "      padding: 0 0 0 0;\n",
              "      width: 32px;\n",
              "    }\n",
              "\n",
              "    .colab-df-convert:hover {\n",
              "      background-color: #E2EBFA;\n",
              "      box-shadow: 0px 1px 2px rgba(60, 64, 67, 0.3), 0px 1px 3px 1px rgba(60, 64, 67, 0.15);\n",
              "      fill: #174EA6;\n",
              "    }\n",
              "\n",
              "    .colab-df-buttons div {\n",
              "      margin-bottom: 4px;\n",
              "    }\n",
              "\n",
              "    [theme=dark] .colab-df-convert {\n",
              "      background-color: #3B4455;\n",
              "      fill: #D2E3FC;\n",
              "    }\n",
              "\n",
              "    [theme=dark] .colab-df-convert:hover {\n",
              "      background-color: #434B5C;\n",
              "      box-shadow: 0px 1px 3px 1px rgba(0, 0, 0, 0.15);\n",
              "      filter: drop-shadow(0px 1px 2px rgba(0, 0, 0, 0.3));\n",
              "      fill: #FFFFFF;\n",
              "    }\n",
              "  </style>\n",
              "\n",
              "    <script>\n",
              "      const buttonEl =\n",
              "        document.querySelector('#df-640b71ae-597b-4e46-99fe-d6b5ce3e6f48 button.colab-df-convert');\n",
              "      buttonEl.style.display =\n",
              "        google.colab.kernel.accessAllowed ? 'block' : 'none';\n",
              "\n",
              "      async function convertToInteractive(key) {\n",
              "        const element = document.querySelector('#df-640b71ae-597b-4e46-99fe-d6b5ce3e6f48');\n",
              "        const dataTable =\n",
              "          await google.colab.kernel.invokeFunction('convertToInteractive',\n",
              "                                                    [key], {});\n",
              "        if (!dataTable) return;\n",
              "\n",
              "        const docLinkHtml = 'Like what you see? Visit the ' +\n",
              "          '<a target=\"_blank\" href=https://colab.research.google.com/notebooks/data_table.ipynb>data table notebook</a>'\n",
              "          + ' to learn more about interactive tables.';\n",
              "        element.innerHTML = '';\n",
              "        dataTable['output_type'] = 'display_data';\n",
              "        await google.colab.output.renderOutput(dataTable, element);\n",
              "        const docLink = document.createElement('div');\n",
              "        docLink.innerHTML = docLinkHtml;\n",
              "        element.appendChild(docLink);\n",
              "      }\n",
              "    </script>\n",
              "  </div>\n",
              "\n",
              "\n",
              "<div id=\"df-bd3cc73d-e01b-4c41-9257-8aa1a9dd349d\">\n",
              "  <button class=\"colab-df-quickchart\" onclick=\"quickchart('df-bd3cc73d-e01b-4c41-9257-8aa1a9dd349d')\"\n",
              "            title=\"Suggest charts\"\n",
              "            style=\"display:none;\">\n",
              "\n",
              "<svg xmlns=\"http://www.w3.org/2000/svg\" height=\"24px\"viewBox=\"0 0 24 24\"\n",
              "     width=\"24px\">\n",
              "    <g>\n",
              "        <path d=\"M19 3H5c-1.1 0-2 .9-2 2v14c0 1.1.9 2 2 2h14c1.1 0 2-.9 2-2V5c0-1.1-.9-2-2-2zM9 17H7v-7h2v7zm4 0h-2V7h2v10zm4 0h-2v-4h2v4z\"/>\n",
              "    </g>\n",
              "</svg>\n",
              "  </button>\n",
              "\n",
              "<style>\n",
              "  .colab-df-quickchart {\n",
              "      --bg-color: #E8F0FE;\n",
              "      --fill-color: #1967D2;\n",
              "      --hover-bg-color: #E2EBFA;\n",
              "      --hover-fill-color: #174EA6;\n",
              "      --disabled-fill-color: #AAA;\n",
              "      --disabled-bg-color: #DDD;\n",
              "  }\n",
              "\n",
              "  [theme=dark] .colab-df-quickchart {\n",
              "      --bg-color: #3B4455;\n",
              "      --fill-color: #D2E3FC;\n",
              "      --hover-bg-color: #434B5C;\n",
              "      --hover-fill-color: #FFFFFF;\n",
              "      --disabled-bg-color: #3B4455;\n",
              "      --disabled-fill-color: #666;\n",
              "  }\n",
              "\n",
              "  .colab-df-quickchart {\n",
              "    background-color: var(--bg-color);\n",
              "    border: none;\n",
              "    border-radius: 50%;\n",
              "    cursor: pointer;\n",
              "    display: none;\n",
              "    fill: var(--fill-color);\n",
              "    height: 32px;\n",
              "    padding: 0;\n",
              "    width: 32px;\n",
              "  }\n",
              "\n",
              "  .colab-df-quickchart:hover {\n",
              "    background-color: var(--hover-bg-color);\n",
              "    box-shadow: 0 1px 2px rgba(60, 64, 67, 0.3), 0 1px 3px 1px rgba(60, 64, 67, 0.15);\n",
              "    fill: var(--button-hover-fill-color);\n",
              "  }\n",
              "\n",
              "  .colab-df-quickchart-complete:disabled,\n",
              "  .colab-df-quickchart-complete:disabled:hover {\n",
              "    background-color: var(--disabled-bg-color);\n",
              "    fill: var(--disabled-fill-color);\n",
              "    box-shadow: none;\n",
              "  }\n",
              "\n",
              "  .colab-df-spinner {\n",
              "    border: 2px solid var(--fill-color);\n",
              "    border-color: transparent;\n",
              "    border-bottom-color: var(--fill-color);\n",
              "    animation:\n",
              "      spin 1s steps(1) infinite;\n",
              "  }\n",
              "\n",
              "  @keyframes spin {\n",
              "    0% {\n",
              "      border-color: transparent;\n",
              "      border-bottom-color: var(--fill-color);\n",
              "      border-left-color: var(--fill-color);\n",
              "    }\n",
              "    20% {\n",
              "      border-color: transparent;\n",
              "      border-left-color: var(--fill-color);\n",
              "      border-top-color: var(--fill-color);\n",
              "    }\n",
              "    30% {\n",
              "      border-color: transparent;\n",
              "      border-left-color: var(--fill-color);\n",
              "      border-top-color: var(--fill-color);\n",
              "      border-right-color: var(--fill-color);\n",
              "    }\n",
              "    40% {\n",
              "      border-color: transparent;\n",
              "      border-right-color: var(--fill-color);\n",
              "      border-top-color: var(--fill-color);\n",
              "    }\n",
              "    60% {\n",
              "      border-color: transparent;\n",
              "      border-right-color: var(--fill-color);\n",
              "    }\n",
              "    80% {\n",
              "      border-color: transparent;\n",
              "      border-right-color: var(--fill-color);\n",
              "      border-bottom-color: var(--fill-color);\n",
              "    }\n",
              "    90% {\n",
              "      border-color: transparent;\n",
              "      border-bottom-color: var(--fill-color);\n",
              "    }\n",
              "  }\n",
              "</style>\n",
              "\n",
              "  <script>\n",
              "    async function quickchart(key) {\n",
              "      const quickchartButtonEl =\n",
              "        document.querySelector('#' + key + ' button');\n",
              "      quickchartButtonEl.disabled = true;  // To prevent multiple clicks.\n",
              "      quickchartButtonEl.classList.add('colab-df-spinner');\n",
              "      try {\n",
              "        const charts = await google.colab.kernel.invokeFunction(\n",
              "            'suggestCharts', [key], {});\n",
              "      } catch (error) {\n",
              "        console.error('Error during call to suggestCharts:', error);\n",
              "      }\n",
              "      quickchartButtonEl.classList.remove('colab-df-spinner');\n",
              "      quickchartButtonEl.classList.add('colab-df-quickchart-complete');\n",
              "    }\n",
              "    (() => {\n",
              "      let quickchartButtonEl =\n",
              "        document.querySelector('#df-bd3cc73d-e01b-4c41-9257-8aa1a9dd349d button');\n",
              "      quickchartButtonEl.style.display =\n",
              "        google.colab.kernel.accessAllowed ? 'block' : 'none';\n",
              "    })();\n",
              "  </script>\n",
              "</div>\n",
              "\n",
              "  <div id=\"id_784ca26b-fb17-4df6-8594-80ecb4ec5bd7\">\n",
              "    <style>\n",
              "      .colab-df-generate {\n",
              "        background-color: #E8F0FE;\n",
              "        border: none;\n",
              "        border-radius: 50%;\n",
              "        cursor: pointer;\n",
              "        display: none;\n",
              "        fill: #1967D2;\n",
              "        height: 32px;\n",
              "        padding: 0 0 0 0;\n",
              "        width: 32px;\n",
              "      }\n",
              "\n",
              "      .colab-df-generate:hover {\n",
              "        background-color: #E2EBFA;\n",
              "        box-shadow: 0px 1px 2px rgba(60, 64, 67, 0.3), 0px 1px 3px 1px rgba(60, 64, 67, 0.15);\n",
              "        fill: #174EA6;\n",
              "      }\n",
              "\n",
              "      [theme=dark] .colab-df-generate {\n",
              "        background-color: #3B4455;\n",
              "        fill: #D2E3FC;\n",
              "      }\n",
              "\n",
              "      [theme=dark] .colab-df-generate:hover {\n",
              "        background-color: #434B5C;\n",
              "        box-shadow: 0px 1px 3px 1px rgba(0, 0, 0, 0.15);\n",
              "        filter: drop-shadow(0px 1px 2px rgba(0, 0, 0, 0.3));\n",
              "        fill: #FFFFFF;\n",
              "      }\n",
              "    </style>\n",
              "    <button class=\"colab-df-generate\" onclick=\"generateWithVariable('filter_text')\"\n",
              "            title=\"Generate code using this dataframe.\"\n",
              "            style=\"display:none;\">\n",
              "\n",
              "  <svg xmlns=\"http://www.w3.org/2000/svg\" height=\"24px\"viewBox=\"0 0 24 24\"\n",
              "       width=\"24px\">\n",
              "    <path d=\"M7,19H8.4L18.45,9,17,7.55,7,17.6ZM5,21V16.75L18.45,3.32a2,2,0,0,1,2.83,0l1.4,1.43a1.91,1.91,0,0,1,.58,1.4,1.91,1.91,0,0,1-.58,1.4L9.25,21ZM18.45,9,17,7.55Zm-12,3A5.31,5.31,0,0,0,4.9,8.1,5.31,5.31,0,0,0,1,6.5,5.31,5.31,0,0,0,4.9,4.9,5.31,5.31,0,0,0,6.5,1,5.31,5.31,0,0,0,8.1,4.9,5.31,5.31,0,0,0,12,6.5,5.46,5.46,0,0,0,6.5,12Z\"/>\n",
              "  </svg>\n",
              "    </button>\n",
              "    <script>\n",
              "      (() => {\n",
              "      const buttonEl =\n",
              "        document.querySelector('#id_784ca26b-fb17-4df6-8594-80ecb4ec5bd7 button.colab-df-generate');\n",
              "      buttonEl.style.display =\n",
              "        google.colab.kernel.accessAllowed ? 'block' : 'none';\n",
              "\n",
              "      buttonEl.onclick = () => {\n",
              "        google.colab.notebook.generateWithVariable('filter_text');\n",
              "      }\n",
              "      })();\n",
              "    </script>\n",
              "  </div>\n",
              "\n",
              "    </div>\n",
              "  </div>\n"
            ],
            "application/vnd.google.colaboratory.intrinsic+json": {
              "type": "dataframe",
              "variable_name": "filter_text",
              "summary": "{\n  \"name\": \"filter_text\",\n  \"rows\": 132,\n  \"fields\": [\n    {\n      \"column\": 0,\n      \"properties\": {\n        \"dtype\": \"string\",\n        \"num_unique_values\": 129,\n        \"samples\": [\n          \"\\ud734\\uc2dd \\ud558\\ub2e4\\uac00 \\ucf58\\uc11c\\ud2b8 \\uc900\\ube44 \\ud558\\ub824\\ub098\",\n          \"\\uc77c\\uc694\\uc77c \\ub2f3\\ub3c4\\ub85d \\ubcfc \\ubb34\\ub300 \\uc601\\uc0c1\",\n          \"\\uc625\\uc218\\uc218 \\uc218\\uc5fc \\ucc28 \\ub77c\\ubca8 \\uc774\\ubca4\\ud2b8 \\ub5b4\\ub2f9\"\n        ],\n        \"semantic_type\": \"\",\n        \"description\": \"\"\n      }\n    }\n  ]\n}"
            }
          },
          "metadata": {},
          "execution_count": 55
        }
      ]
    },
    {
      "cell_type": "code",
      "source": [
        "output_file_path = '/content/drive/MyDrive/Colab Notebooks/더쿠요구사항/투어스_cooccurrence_matrix.xlsx'\n",
        "cooccurrence_matrix.to_excel(output_file_path)"
      ],
      "metadata": {
        "id": "ekeXEbzx5twS"
      },
      "execution_count": null,
      "outputs": []
    },
    {
      "cell_type": "code",
      "source": [],
      "metadata": {
        "id": "vJ7mk_dv-gwv"
      },
      "execution_count": null,
      "outputs": []
    }
  ]
}